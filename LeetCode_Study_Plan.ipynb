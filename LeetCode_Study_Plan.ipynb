{
  "nbformat": 4,
  "nbformat_minor": 0,
  "metadata": {
    "colab": {
      "provenance": [],
      "authorship_tag": "ABX9TyPxdRufddnkcxQ5UBtJGMDL",
      "include_colab_link": true
    },
    "kernelspec": {
      "name": "python3",
      "display_name": "Python 3"
    },
    "language_info": {
      "name": "python"
    }
  },
  "cells": [
    {
      "cell_type": "markdown",
      "metadata": {
        "id": "view-in-github",
        "colab_type": "text"
      },
      "source": [
        "<a href=\"https://colab.research.google.com/github/Bhavleenk/DSA/blob/main/LeetCode_Study_Plan.ipynb\" target=\"_parent\"><img src=\"https://colab.research.google.com/assets/colab-badge.svg\" alt=\"Open In Colab\"/></a>"
      ]
    },
    {
      "cell_type": "markdown",
      "source": [
        "# **Programming Skills Plan**"
      ],
      "metadata": {
        "id": "ExgtR7YXKKBN"
      }
    },
    {
      "cell_type": "markdown",
      "source": [
        "## **Basic Implementation**"
      ],
      "metadata": {
        "id": "pXMNoqkVCP34"
      }
    },
    {
      "cell_type": "markdown",
      "source": [
        "Merge two strings alternatively"
      ],
      "metadata": {
        "id": "Na69CbyfCW5t"
      }
    },
    {
      "cell_type": "code",
      "source": [
        "def mergeAlternately(self, word1: str, word2: str) -> str:\n",
        "        result=\"\"\n",
        "        i=0\n",
        "        while (i<len(word1) or i<len(word2)):\n",
        "            if (i<len(word1)):\n",
        "                result+=word1[i]\n",
        "            if (i<len(word2)):\n",
        "                result+=word2[i]\n",
        "            i+=1\n",
        "        return result"
      ],
      "metadata": {
        "id": "MKhBI186CVy9"
      },
      "execution_count": null,
      "outputs": []
    },
    {
      "cell_type": "markdown",
      "source": [
        "Convert Roman to Integer"
      ],
      "metadata": {
        "id": "vl-QdFcPG3fM"
      }
    },
    {
      "cell_type": "code",
      "source": [
        "def romanToInt(self, s: str) -> int:\n",
        "        roman_val = {'I':1, 'V':5, 'X':10, 'L':50, 'C':100, 'D':500, 'M':1000}\n",
        "        int_ans=0\n",
        "        for i in range(len(s)):\n",
        "            if i<len(s)-1 and roman_val[s[i]] < roman_val[s[i+1]]:\n",
        "                int_ans -= roman_val[s[i]]\n",
        "            else:\n",
        "                int_ans += roman_val[s[i]]\n",
        "        return int_ans"
      ],
      "metadata": {
        "id": "Q1TVnEcsG53r"
      },
      "execution_count": null,
      "outputs": []
    },
    {
      "cell_type": "markdown",
      "source": [
        "Find the Difference\n",
        "---\n",
        "---\n",
        "Example 1:\n",
        "\n",
        "Input: s = \"abcd\", t = \"abcde\" <br>\n",
        "Output: \"e\" <br>\n",
        "Explanation: 'e' is the letter that was added.\n"
      ],
      "metadata": {
        "id": "LgYjJjgR-2cL"
      }
    },
    {
      "cell_type": "code",
      "source": [
        "def findTheDifference(self, s: str, t: str) -> str:\n",
        "        if len(s)>len(t):\n",
        "            for i in s:\n",
        "                if s.count(i)>t.count(i):\n",
        "                    return (i)\n",
        "                    break\n",
        "        if len(t)>len(s):\n",
        "            for i in t:\n",
        "                if t.count(i)>s.count(i):\n",
        "                    return(i)\n",
        "                    break"
      ],
      "metadata": {
        "id": "c8YjA8h5-Iuw"
      },
      "execution_count": null,
      "outputs": []
    },
    {
      "cell_type": "markdown",
      "source": [
        "Move Zeroes\n",
        "---\n",
        "---\n",
        "Example 1:\n",
        "\n",
        "Input: nums = [0,1,0,3,12] <br>\n",
        "Output: [1,3,12,0,0] <br>"
      ],
      "metadata": {
        "id": "neJFZRp5rw37"
      }
    },
    {
      "cell_type": "code",
      "source": [
        "def moveZeroes(self, nums: List[int]) -> None:\n",
        "        \"\"\"\n",
        "        Do not return anything, modify nums in-place instead.\n",
        "        \"\"\"\n",
        "\n",
        "        for i in range(len(nums)):\n",
        "            if nums[i]==0:\n",
        "                nums.append(0)\n",
        "                nums.remove(0)"
      ],
      "metadata": {
        "id": "LU2sRoHerwJl"
      },
      "execution_count": null,
      "outputs": []
    },
    {
      "cell_type": "markdown",
      "source": [
        "Find the Index of the First Occurrence in a String\n",
        "---\n",
        "---\n",
        "Example 1:\n",
        "\n",
        "Input: haystack = \"sadbutsad\", needle = \"sad\" <br>\n",
        "Output: 0 <br>\n",
        "Explanation: \"sad\" occurs at index 0 and 6. <br>\n",
        "The first occurrence is at index 0, so we return 0."
      ],
      "metadata": {
        "id": "s_4SL4q_d7jv"
      }
    },
    {
      "cell_type": "code",
      "source": [
        "def strStr(self, haystack: str, needle: str) -> int:\n",
        "        return haystack.find(needl)"
      ],
      "metadata": {
        "id": "CP5aRfTld4xd"
      },
      "execution_count": null,
      "outputs": []
    },
    {
      "cell_type": "markdown",
      "source": [
        "Valid Anagram\n",
        "---\n",
        "---\n",
        "Given two strings s and t, return true if t is an anagram of s, and false otherwise.\n",
        "\n",
        "An Anagram is a word or phrase formed by rearranging the letters of a different word or phrase, typically using all the original letters exactly once.\n",
        "\n",
        "\n",
        "\n",
        "Example 1:\n",
        "\n",
        "Input: s = \"anagram\", t = \"nagaram\" <br>\n",
        "Output: true"
      ],
      "metadata": {
        "id": "vIP2l-dQfY3s"
      }
    },
    {
      "cell_type": "code",
      "source": [
        "def isAnagram(self, s: str, t: str) -> bool:\n",
        "        s = sorted(s)\n",
        "        t = sorted(t)\n",
        "        return s==t"
      ],
      "metadata": {
        "id": "O6o9jHPPfRjv"
      },
      "execution_count": null,
      "outputs": []
    },
    {
      "cell_type": "markdown",
      "source": [
        "Repeated Substring Pattern\n",
        "---\n",
        "---\n",
        "Example 1:\n",
        "\n",
        "Input: s = \"abab\" <br>\n",
        "Output: true <br>\n",
        "Explanation: It is the substring \"ab\" twice. <br>\n",
        "\n",
        "---\n",
        "**Here's a brief explanation of the code:**\n",
        "\n",
        "ss = (s + s)[1:-1]: This line creates a new string ss by concatenating the input string s with itself (doubling it). [1:-1] slices this doubled string, removing the first and last characters. This effectively removes the first character of s and the last character of s from ss.\n",
        "\n",
        "return s in ss: This line checks if the original string s is a substring of ss. If it is, that means s can be formed by repeating a substring within itself, so the method returns True. Otherwise, it returns False.\n",
        "\n",
        "In essence, this code checks if s can be constructed by repeating a portion of itself, and it does this by creating a new string ss where s is doubled and the first and last characters are removed. Then, it checks if s is a substring of ss. If it is, it returns True; otherwise, it returns False."
      ],
      "metadata": {
        "id": "r94EZsRXiQ9i"
      }
    },
    {
      "cell_type": "code",
      "source": [
        "def repeatedSubstringPattern(self, s: str) -> bool:\n",
        "        ss = (s+s)[1:-1]\n",
        "        return s in ss"
      ],
      "metadata": {
        "id": "yRzf5InpiEyt"
      },
      "execution_count": null,
      "outputs": []
    },
    {
      "cell_type": "markdown",
      "source": [
        "Can Make Arithmetic Progression From Sequence\n",
        "---\n",
        "---\n",
        "Example 1:\n",
        "\n",
        "Input: arr = [3,5,1] <br>\n",
        "Output: true<br>\n",
        "Explanation: We can reorder the elements as [1,3,5] or [5,3,1] with differences 2 and -2 respectively, between each consecutive elements."
      ],
      "metadata": {
        "id": "ymoJfPwXnX_L"
      }
    },
    {
      "cell_type": "code",
      "source": [
        "def canMakeArithmeticProgression(self, arr: List[int]) -> bool:\n",
        "        if len(arr)==2:\n",
        "            return True\n",
        "        arr = sorted(arr)\n",
        "        print(arr)\n",
        "        for i in range(2,len(arr)):\n",
        "            if (arr[i]-arr[i-1] != arr[1]-arr[0]):\n",
        "                return False\n",
        "        return True"
      ],
      "metadata": {
        "id": "NizIG7ozm6Pp"
      },
      "execution_count": null,
      "outputs": []
    },
    {
      "cell_type": "markdown",
      "source": [
        "# **LeetCode 75 Study Plan**"
      ],
      "metadata": {
        "id": "TsNnoSmNKQi3"
      }
    },
    {
      "cell_type": "markdown",
      "source": [
        "## **Array/Strings**"
      ],
      "metadata": {
        "id": "cPTb4TCkKgpU"
      }
    },
    {
      "cell_type": "markdown",
      "source": [
        "Reverse Vowels in a string <br>\n",
        "---\n",
        "---\n",
        "APPROACH : <br>\n",
        "Initialize two pointers, l and r, pointing to the start and end of the string respectively.\n",
        "Create a list of vowel characters, both lowercase and uppercase.\n",
        "Convert the input string into a list of characters for ease of swapping.\n",
        "Iterate through the string using the two-pointer approach:\n",
        "If the character at position l is not a vowel, increment l.\n",
        "If the character at position r is not a vowel, decrement r.\n",
        "If both characters at positions l and r are vowels, swap them and then increment l and decrement r."
      ],
      "metadata": {
        "id": "v5qaSjICOnIJ"
      }
    },
    {
      "cell_type": "code",
      "source": [
        "def reverseVowels(self, s: str) -> str:\n",
        "        s=list(s)\n",
        "        vowels = 'aeiouAEIOU'\n",
        "        low_index, high_index = 0, len(s)-1\n",
        "        while low_index<high_index:\n",
        "            if s[low_index] not in vowels and s[high_index] not in vowels:\n",
        "                low_index+=1\n",
        "                high_index-=1\n",
        "            elif s[low_index] not in vowels:\n",
        "                low_index+=1\n",
        "            elif s[high_index] not in vowels:\n",
        "                high_index-=1\n",
        "            else:\n",
        "                s[low_index], s[high_index] = s[high_index], s[low_index]\n",
        "                low_index+=1\n",
        "                high_index-=1\n",
        "        return ''.join(s)"
      ],
      "metadata": {
        "id": "hlZbDRCWKXSP"
      },
      "execution_count": null,
      "outputs": []
    },
    {
      "cell_type": "markdown",
      "source": [
        "Reverse Words in a String\n",
        "---\n",
        "---\n",
        "Example 1:\n",
        "\n",
        "Input: s = \"the sky is blue\" <br>\n",
        "Output: \"blue is sky the\""
      ],
      "metadata": {
        "id": "1qpT6t-Q6tBh"
      }
    },
    {
      "cell_type": "code",
      "source": [
        "def reverseWords(self, s: str) -> str:\n",
        "        s=s.split()\n",
        "        return \" \".join(s[::-1])"
      ],
      "metadata": {
        "id": "pLjzawOQ6rr8"
      },
      "execution_count": null,
      "outputs": []
    },
    {
      "cell_type": "markdown",
      "source": [
        "Can Place Flowers\n",
        "---\n",
        "---\n",
        "Example 1:\n",
        "\n",
        "Input: flowerbed = [1,0,0,0,1], n = 1 <br>\n",
        "Output: true"
      ],
      "metadata": {
        "id": "_N4RkuVu4TfV"
      }
    },
    {
      "cell_type": "code",
      "source": [
        "def canPlaceFlowers(self, flowerbed: List[int], n: int) -> bool:\n",
        "        if n == 0:\n",
        "            return True\n",
        "        for i in range(len(flowerbed)):\n",
        "            if flowerbed[i] == 0 and (i == 0 or flowerbed[i-1] == 0) and (i == len(flowerbed)-1 or flowerbed[i+1] == 0):\n",
        "                flowerbed[i] = 1\n",
        "                n -= 1\n",
        "                if n == 0:\n",
        "                    return True"
      ],
      "metadata": {
        "id": "Ml5MPKZS4Fo7"
      },
      "execution_count": null,
      "outputs": []
    },
    {
      "cell_type": "markdown",
      "source": [
        "## **Hash Map/Set**"
      ],
      "metadata": {
        "id": "_7j5CF2nyR-6"
      }
    },
    {
      "cell_type": "markdown",
      "source": [
        "Find the Difference of Two Arrays\n",
        "---\n",
        "---\n",
        "Example 1:\n",
        "\n",
        "Input: nums1 = [1,2,3], nums2 = [2,4,6] <br>\n",
        "Output: [[1,3],[4,6]] <br>\n",
        "Explanation:\n",
        "For nums1, nums1[1] = 2 is present at index 0 of nums2, whereas nums1[0] = 1 and nums1[2] = 3 are not present in nums2. Therefore, answer[0] = [1,3].\n",
        "For nums2, nums2[0] = 2 is present at index 1 of nums1, whereas nums2[1] = 4 and nums2[2] = 6 are not present in nums2. Therefore, answer[1] = [4,6]."
      ],
      "metadata": {
        "id": "_d7wk7YcyZg7"
      }
    },
    {
      "cell_type": "code",
      "source": [
        "def findDifference(self, nums1: List[int], nums2: List[int]) -> List[List[int]]:\n",
        "        ans=[]\n",
        "        ans = set(nums1)-set(nums2)\n",
        "        ans2=[]\n",
        "        ans2=set(nums2)-set(nums1)\n",
        "        result=[]\n",
        "        result.append(ans)\n",
        "        result.append(ans2)\n",
        "        return result"
      ],
      "metadata": {
        "id": "KPkUBm8gyl6B"
      },
      "execution_count": null,
      "outputs": []
    }
  ]
}