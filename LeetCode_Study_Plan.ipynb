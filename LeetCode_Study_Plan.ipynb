{
  "nbformat": 4,
  "nbformat_minor": 0,
  "metadata": {
    "colab": {
      "provenance": [],
      "authorship_tag": "ABX9TyMFvKKVQrlUVtq/44II7cao",
      "include_colab_link": true
    },
    "kernelspec": {
      "name": "python3",
      "display_name": "Python 3"
    },
    "language_info": {
      "name": "python"
    }
  },
  "cells": [
    {
      "cell_type": "markdown",
      "metadata": {
        "id": "view-in-github",
        "colab_type": "text"
      },
      "source": [
        "<a href=\"https://colab.research.google.com/github/Bhavleenk/DSA/blob/main/LeetCode_Study_Plan.ipynb\" target=\"_parent\"><img src=\"https://colab.research.google.com/assets/colab-badge.svg\" alt=\"Open In Colab\"/></a>"
      ]
    },
    {
      "cell_type": "markdown",
      "source": [
        "# **Programming Skills Plan**"
      ],
      "metadata": {
        "id": "ExgtR7YXKKBN"
      }
    },
    {
      "cell_type": "markdown",
      "source": [
        "## **Basic Implementation**"
      ],
      "metadata": {
        "id": "pXMNoqkVCP34"
      }
    },
    {
      "cell_type": "markdown",
      "source": [
        "Merge two strings alternatively"
      ],
      "metadata": {
        "id": "Na69CbyfCW5t"
      }
    },
    {
      "cell_type": "code",
      "source": [
        "def mergeAlternately(self, word1: str, word2: str) -> str:\n",
        "        result=\"\"\n",
        "        i=0\n",
        "        while (i<len(word1) or i<len(word2)):\n",
        "            if (i<len(word1)):\n",
        "                result+=word1[i]\n",
        "            if (i<len(word2)):\n",
        "                result+=word2[i]\n",
        "            i+=1\n",
        "        return result"
      ],
      "metadata": {
        "id": "MKhBI186CVy9"
      },
      "execution_count": null,
      "outputs": []
    },
    {
      "cell_type": "markdown",
      "source": [
        "Convert Roman to Integer"
      ],
      "metadata": {
        "id": "vl-QdFcPG3fM"
      }
    },
    {
      "cell_type": "code",
      "source": [
        "def romanToInt(self, s: str) -> int:\n",
        "        roman_val = {'I':1, 'V':5, 'X':10, 'L':50, 'C':100, 'D':500, 'M':1000}\n",
        "        int_ans=0\n",
        "        for i in range(len(s)):\n",
        "            if i<len(s)-1 and roman_val[s[i]] < roman_val[s[i+1]]:\n",
        "                int_ans -= roman_val[s[i]]\n",
        "            else:\n",
        "                int_ans += roman_val[s[i]]\n",
        "        return int_ans"
      ],
      "metadata": {
        "id": "Q1TVnEcsG53r"
      },
      "execution_count": null,
      "outputs": []
    },
    {
      "cell_type": "markdown",
      "source": [
        "Find the Difference\n",
        "---\n",
        "---\n",
        "Example 1:\n",
        "\n",
        "Input: s = \"abcd\", t = \"abcde\" <br>\n",
        "Output: \"e\" <br>\n",
        "Explanation: 'e' is the letter that was added.\n"
      ],
      "metadata": {
        "id": "LgYjJjgR-2cL"
      }
    },
    {
      "cell_type": "code",
      "source": [
        "def findTheDifference(self, s: str, t: str) -> str:\n",
        "        if len(s)>len(t):\n",
        "            for i in s:\n",
        "                if s.count(i)>t.count(i):\n",
        "                    return (i)\n",
        "                    break\n",
        "        if len(t)>len(s):\n",
        "            for i in t:\n",
        "                if t.count(i)>s.count(i):\n",
        "                    return(i)\n",
        "                    break"
      ],
      "metadata": {
        "id": "c8YjA8h5-Iuw"
      },
      "execution_count": null,
      "outputs": []
    },
    {
      "cell_type": "markdown",
      "source": [
        "Move Zeroes\n",
        "---\n",
        "---\n",
        "Example 1:\n",
        "\n",
        "Input: nums = [0,1,0,3,12] <br>\n",
        "Output: [1,3,12,0,0] <br>"
      ],
      "metadata": {
        "id": "neJFZRp5rw37"
      }
    },
    {
      "cell_type": "code",
      "source": [
        "def moveZeroes(self, nums: List[int]) -> None:\n",
        "        \"\"\"\n",
        "        Do not return anything, modify nums in-place instead.\n",
        "        \"\"\"\n",
        "\n",
        "        for i in range(len(nums)):\n",
        "            if nums[i]==0:\n",
        "                nums.append(0)\n",
        "                nums.remove(0)"
      ],
      "metadata": {
        "id": "LU2sRoHerwJl"
      },
      "execution_count": null,
      "outputs": []
    },
    {
      "cell_type": "markdown",
      "source": [
        "# **LeetCode 75 Study Plan**"
      ],
      "metadata": {
        "id": "TsNnoSmNKQi3"
      }
    },
    {
      "cell_type": "markdown",
      "source": [
        "## **Array/Strings**"
      ],
      "metadata": {
        "id": "cPTb4TCkKgpU"
      }
    },
    {
      "cell_type": "markdown",
      "source": [
        "Reverse Vowels in a string <br>\n",
        "---\n",
        "---\n",
        "APPROACH : <br>\n",
        "Initialize two pointers, l and r, pointing to the start and end of the string respectively.\n",
        "Create a list of vowel characters, both lowercase and uppercase.\n",
        "Convert the input string into a list of characters for ease of swapping.\n",
        "Iterate through the string using the two-pointer approach:\n",
        "If the character at position l is not a vowel, increment l.\n",
        "If the character at position r is not a vowel, decrement r.\n",
        "If both characters at positions l and r are vowels, swap them and then increment l and decrement r."
      ],
      "metadata": {
        "id": "v5qaSjICOnIJ"
      }
    },
    {
      "cell_type": "code",
      "source": [
        "def reverseVowels(self, s: str) -> str:\n",
        "        s=list(s)\n",
        "        vowels = 'aeiouAEIOU'\n",
        "        low_index, high_index = 0, len(s)-1\n",
        "        while low_index<high_index:\n",
        "            if s[low_index] not in vowels and s[high_index] not in vowels:\n",
        "                low_index+=1\n",
        "                high_index-=1\n",
        "            elif s[low_index] not in vowels:\n",
        "                low_index+=1\n",
        "            elif s[high_index] not in vowels:\n",
        "                high_index-=1\n",
        "            else:\n",
        "                s[low_index], s[high_index] = s[high_index], s[low_index]\n",
        "                low_index+=1\n",
        "                high_index-=1\n",
        "        return ''.join(s)"
      ],
      "metadata": {
        "id": "hlZbDRCWKXSP"
      },
      "execution_count": null,
      "outputs": []
    },
    {
      "cell_type": "markdown",
      "source": [
        "Reverse Words in a String\n",
        "---\n",
        "---\n",
        "Example 1:\n",
        "\n",
        "Input: s = \"the sky is blue\" <br>\n",
        "Output: \"blue is sky the\""
      ],
      "metadata": {
        "id": "1qpT6t-Q6tBh"
      }
    },
    {
      "cell_type": "code",
      "source": [
        "def reverseWords(self, s: str) -> str:\n",
        "        s=s.split()\n",
        "        return \" \".join(s[::-1])"
      ],
      "metadata": {
        "id": "pLjzawOQ6rr8"
      },
      "execution_count": null,
      "outputs": []
    },
    {
      "cell_type": "markdown",
      "source": [
        "Can Place Flowers\n",
        "---\n",
        "---\n",
        "Example 1:\n",
        "\n",
        "Input: flowerbed = [1,0,0,0,1], n = 1 <br>\n",
        "Output: true"
      ],
      "metadata": {
        "id": "_N4RkuVu4TfV"
      }
    },
    {
      "cell_type": "code",
      "source": [
        "def canPlaceFlowers(self, flowerbed: List[int], n: int) -> bool:\n",
        "        if n == 0:\n",
        "            return True\n",
        "        for i in range(len(flowerbed)):\n",
        "            if flowerbed[i] == 0 and (i == 0 or flowerbed[i-1] == 0) and (i == len(flowerbed)-1 or flowerbed[i+1] == 0):\n",
        "                flowerbed[i] = 1\n",
        "                n -= 1\n",
        "                if n == 0:\n",
        "                    return True"
      ],
      "metadata": {
        "id": "Ml5MPKZS4Fo7"
      },
      "execution_count": 2,
      "outputs": []
    }
  ]
}